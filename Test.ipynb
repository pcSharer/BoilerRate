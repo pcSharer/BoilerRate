{
 "cells": [
  {
   "cell_type": "code",
   "execution_count": null,
   "id": "08a1ac8d",
   "metadata": {},
   "outputs": [],
   "source": [
    "#Import tkinter library\n",
    "from tkinter import *\n",
    "#Create an instance of Tkinter frame or window\n",
    "win= Tk()\n",
    "#Set the geometry of tkinter frame\n",
    "win.geometry(\"750x250\")\n",
    "def callback():\n",
    "   Label(win, text=\"Hello World!\", font=('Century 20 bold')).pack(pady=4)\n",
    "#Create a Label and a Button widget\n",
    "btn=Button(win, text=\"Press Enter\", command= callback)\n",
    "btn.pack(ipadx=10)\n",
    "win.bind('<Return>',lambda event:callback())\n",
    "win.mainloop()"
   ]
  },
  {
   "cell_type": "code",
   "execution_count": null,
   "id": "2e965cc1",
   "metadata": {},
   "outputs": [],
   "source": [
    "from tkinter import *\n",
    "\n",
    "master = Tk()\n",
    "Label(master, text=\"First Name\").grid(row=0)\n",
    "Label(master, text=\"Last Name\").grid(row=1)\n",
    "\n",
    "e1 = Entry(master)\n",
    "e2 = Entry(master)\n",
    "\n",
    "e1.grid(row=0, column=1)\n",
    "e2.grid(row=1, column=1)\n",
    "\n",
    "mainloop( )"
   ]
  },
  {
   "cell_type": "code",
   "execution_count": null,
   "id": "5c5654df",
   "metadata": {},
   "outputs": [],
   "source": [
    "print(\"zzz\")"
   ]
  },
  {
   "cell_type": "markdown",
   "id": "f5d90053",
   "metadata": {},
   "source": [
    "# Number 1\n",
    "## Number 2"
   ]
  },
  {
   "cell_type": "code",
   "execution_count": null,
   "id": "c506f491",
   "metadata": {},
   "outputs": [],
   "source": []
  },
  {
   "cell_type": "code",
   "execution_count": null,
   "id": "4409b379",
   "metadata": {},
   "outputs": [],
   "source": []
  }
 ],
 "metadata": {
  "kernelspec": {
   "display_name": "Python 3 (ipykernel)",
   "language": "python",
   "name": "python3"
  },
  "language_info": {
   "codemirror_mode": {
    "name": "ipython",
    "version": 3
   },
   "file_extension": ".py",
   "mimetype": "text/x-python",
   "name": "python",
   "nbconvert_exporter": "python",
   "pygments_lexer": "ipython3",
   "version": "3.8.5"
  }
 },
 "nbformat": 4,
 "nbformat_minor": 5
}
